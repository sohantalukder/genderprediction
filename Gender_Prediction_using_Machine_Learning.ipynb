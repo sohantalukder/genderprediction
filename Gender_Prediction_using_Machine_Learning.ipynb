{
  "nbformat": 4,
  "nbformat_minor": 0,
  "metadata": {
    "colab": {
      "name": "Gender Prediction using Machine Learning",
      "provenance": [],
      "collapsed_sections": [],
      "authorship_tag": "ABX9TyNb4WW0xNiqlSIwYKAaaFLM",
      "include_colab_link": true
    },
    "kernelspec": {
      "name": "python3",
      "display_name": "Python 3"
    },
    "language_info": {
      "name": "python"
    }
  },
  "cells": [
    {
      "cell_type": "markdown",
      "metadata": {
        "id": "view-in-github",
        "colab_type": "text"
      },
      "source": [
        "<a href=\"https://colab.research.google.com/github/sohantalukder/genderprediction/blob/main/Gender_Prediction_using_Machine_Learning.ipynb\" target=\"_parent\"><img src=\"https://colab.research.google.com/assets/colab-badge.svg\" alt=\"Open In Colab\"/></a>"
      ]
    },
    {
      "cell_type": "markdown",
      "metadata": {
        "id": "Oy7mzpA1e31m"
      },
      "source": [
        "**Gender Prediction using Machine Learning**"
      ]
    },
    {
      "cell_type": "code",
      "metadata": {
        "id": "e5dzycsHeGBc"
      },
      "source": [
        "from google.colab import files\n",
        "import pandas as pd\n",
        "import numpy as np\n",
        "import matplotlib.pyplot as plt\n",
        "import seaborn as sns\n",
        "import scikitplot as skplt\n",
        "from sklearn.linear_model import LogisticRegression\n",
        "from sklearn.neighbors import KNeighborsClassifier\n",
        "from sklearn.metrics import classification_report\n",
        "from sklearn.model_selection import train_test_split\n",
        "from sklearn.preprocessing import StandardScaler\n",
        "from sklearn.metrics import jaccard_score"
      ],
      "execution_count": 41,
      "outputs": []
    },
    {
      "cell_type": "code",
      "metadata": {
        "colab": {
          "base_uri": "https://localhost:8080/",
          "height": 195
        },
        "id": "vPe9u_jBePwL",
        "outputId": "ffac9d94-a8db-48a6-c52f-82aeccec7aec"
      },
      "source": [
        "df = pd.read_csv('gender_height_weight_foot.csv')\n",
        "df.head()"
      ],
      "execution_count": 42,
      "outputs": [
        {
          "output_type": "execute_result",
          "data": {
            "text/html": [
              "<div>\n",
              "<style scoped>\n",
              "    .dataframe tbody tr th:only-of-type {\n",
              "        vertical-align: middle;\n",
              "    }\n",
              "\n",
              "    .dataframe tbody tr th {\n",
              "        vertical-align: top;\n",
              "    }\n",
              "\n",
              "    .dataframe thead th {\n",
              "        text-align: right;\n",
              "    }\n",
              "</style>\n",
              "<table border=\"1\" class=\"dataframe\">\n",
              "  <thead>\n",
              "    <tr style=\"text-align: right;\">\n",
              "      <th></th>\n",
              "      <th>Person</th>\n",
              "      <th>height(in feet)</th>\n",
              "      <th>weight(in lbs)</th>\n",
              "      <th>foot size(in inches)</th>\n",
              "    </tr>\n",
              "  </thead>\n",
              "  <tbody>\n",
              "    <tr>\n",
              "      <th>0</th>\n",
              "      <td>Male</td>\n",
              "      <td>NaN</td>\n",
              "      <td>241.893563</td>\n",
              "      <td>10.0</td>\n",
              "    </tr>\n",
              "    <tr>\n",
              "      <th>1</th>\n",
              "      <td>Male</td>\n",
              "      <td>68.781904</td>\n",
              "      <td>162.310473</td>\n",
              "      <td>12.0</td>\n",
              "    </tr>\n",
              "    <tr>\n",
              "      <th>2</th>\n",
              "      <td>Male</td>\n",
              "      <td>74.110105</td>\n",
              "      <td>212.740856</td>\n",
              "      <td>10.0</td>\n",
              "    </tr>\n",
              "    <tr>\n",
              "      <th>3</th>\n",
              "      <td>Male</td>\n",
              "      <td>71.730978</td>\n",
              "      <td>220.042470</td>\n",
              "      <td>11.0</td>\n",
              "    </tr>\n",
              "    <tr>\n",
              "      <th>4</th>\n",
              "      <td>Male</td>\n",
              "      <td>69.881796</td>\n",
              "      <td>206.349801</td>\n",
              "      <td>10.0</td>\n",
              "    </tr>\n",
              "  </tbody>\n",
              "</table>\n",
              "</div>"
            ],
            "text/plain": [
              "  Person  height(in feet)  weight(in lbs)  foot size(in inches)\n",
              "0   Male              NaN      241.893563                  10.0\n",
              "1   Male        68.781904      162.310473                  12.0\n",
              "2   Male        74.110105      212.740856                  10.0\n",
              "3   Male        71.730978      220.042470                  11.0\n",
              "4   Male        69.881796      206.349801                  10.0"
            ]
          },
          "metadata": {
            "tags": []
          },
          "execution_count": 42
        }
      ]
    },
    {
      "cell_type": "code",
      "metadata": {
        "colab": {
          "base_uri": "https://localhost:8080/"
        },
        "id": "eKg8RF40ewKp",
        "outputId": "220eab5f-2e2d-47df-a46f-6a1297a1991b"
      },
      "source": [
        "df.shape"
      ],
      "execution_count": 43,
      "outputs": [
        {
          "output_type": "execute_result",
          "data": {
            "text/plain": [
              "(10000, 4)"
            ]
          },
          "metadata": {
            "tags": []
          },
          "execution_count": 43
        }
      ]
    },
    {
      "cell_type": "code",
      "metadata": {
        "colab": {
          "base_uri": "https://localhost:8080/",
          "height": 284
        },
        "id": "sKkOEYsyfaa8",
        "outputId": "104b759c-84ff-4d70-dc73-a5a78f91cecb"
      },
      "source": [
        "df.describe()"
      ],
      "execution_count": 44,
      "outputs": [
        {
          "output_type": "execute_result",
          "data": {
            "text/html": [
              "<div>\n",
              "<style scoped>\n",
              "    .dataframe tbody tr th:only-of-type {\n",
              "        vertical-align: middle;\n",
              "    }\n",
              "\n",
              "    .dataframe tbody tr th {\n",
              "        vertical-align: top;\n",
              "    }\n",
              "\n",
              "    .dataframe thead th {\n",
              "        text-align: right;\n",
              "    }\n",
              "</style>\n",
              "<table border=\"1\" class=\"dataframe\">\n",
              "  <thead>\n",
              "    <tr style=\"text-align: right;\">\n",
              "      <th></th>\n",
              "      <th>height(in feet)</th>\n",
              "      <th>weight(in lbs)</th>\n",
              "      <th>foot size(in inches)</th>\n",
              "    </tr>\n",
              "  </thead>\n",
              "  <tbody>\n",
              "    <tr>\n",
              "      <th>count</th>\n",
              "      <td>9930.000000</td>\n",
              "      <td>9916.000000</td>\n",
              "      <td>9305.000000</td>\n",
              "    </tr>\n",
              "    <tr>\n",
              "      <th>mean</th>\n",
              "      <td>66.379861</td>\n",
              "      <td>161.644172</td>\n",
              "      <td>9.160559</td>\n",
              "    </tr>\n",
              "    <tr>\n",
              "      <th>std</th>\n",
              "      <td>3.850525</td>\n",
              "      <td>32.095392</td>\n",
              "      <td>1.871407</td>\n",
              "    </tr>\n",
              "    <tr>\n",
              "      <th>min</th>\n",
              "      <td>54.263133</td>\n",
              "      <td>64.700127</td>\n",
              "      <td>6.000000</td>\n",
              "    </tr>\n",
              "    <tr>\n",
              "      <th>25%</th>\n",
              "      <td>63.522005</td>\n",
              "      <td>135.954077</td>\n",
              "      <td>7.000000</td>\n",
              "    </tr>\n",
              "    <tr>\n",
              "      <th>50%</th>\n",
              "      <td>66.335970</td>\n",
              "      <td>161.647724</td>\n",
              "      <td>10.000000</td>\n",
              "    </tr>\n",
              "    <tr>\n",
              "      <th>75%</th>\n",
              "      <td>69.194942</td>\n",
              "      <td>187.348518</td>\n",
              "      <td>11.000000</td>\n",
              "    </tr>\n",
              "    <tr>\n",
              "      <th>max</th>\n",
              "      <td>78.998742</td>\n",
              "      <td>269.989698</td>\n",
              "      <td>12.000000</td>\n",
              "    </tr>\n",
              "  </tbody>\n",
              "</table>\n",
              "</div>"
            ],
            "text/plain": [
              "       height(in feet)  weight(in lbs)  foot size(in inches)\n",
              "count      9930.000000     9916.000000           9305.000000\n",
              "mean         66.379861      161.644172              9.160559\n",
              "std           3.850525       32.095392              1.871407\n",
              "min          54.263133       64.700127              6.000000\n",
              "25%          63.522005      135.954077              7.000000\n",
              "50%          66.335970      161.647724             10.000000\n",
              "75%          69.194942      187.348518             11.000000\n",
              "max          78.998742      269.989698             12.000000"
            ]
          },
          "metadata": {
            "tags": []
          },
          "execution_count": 44
        }
      ]
    },
    {
      "cell_type": "code",
      "metadata": {
        "colab": {
          "base_uri": "https://localhost:8080/"
        },
        "id": "1N-oSKdCfdHJ",
        "outputId": "01d19c45-4bd7-408e-c5c6-be9f5cf48554"
      },
      "source": [
        "df.isna().sum()"
      ],
      "execution_count": 45,
      "outputs": [
        {
          "output_type": "execute_result",
          "data": {
            "text/plain": [
              "Person                    0\n",
              "height(in feet)          70\n",
              "weight(in lbs)           84\n",
              "foot size(in inches)    695\n",
              "dtype: int64"
            ]
          },
          "metadata": {
            "tags": []
          },
          "execution_count": 45
        }
      ]
    },
    {
      "cell_type": "code",
      "metadata": {
        "colab": {
          "base_uri": "https://localhost:8080/",
          "height": 343
        },
        "id": "DlAbVJwAfh16",
        "outputId": "da946ef7-9c86-4365-80ff-1cf731d2fd40"
      },
      "source": [
        "df.fillna(round(df.mean(),2), inplace=True)\n",
        "df.head(10)"
      ],
      "execution_count": 46,
      "outputs": [
        {
          "output_type": "execute_result",
          "data": {
            "text/html": [
              "<div>\n",
              "<style scoped>\n",
              "    .dataframe tbody tr th:only-of-type {\n",
              "        vertical-align: middle;\n",
              "    }\n",
              "\n",
              "    .dataframe tbody tr th {\n",
              "        vertical-align: top;\n",
              "    }\n",
              "\n",
              "    .dataframe thead th {\n",
              "        text-align: right;\n",
              "    }\n",
              "</style>\n",
              "<table border=\"1\" class=\"dataframe\">\n",
              "  <thead>\n",
              "    <tr style=\"text-align: right;\">\n",
              "      <th></th>\n",
              "      <th>Person</th>\n",
              "      <th>height(in feet)</th>\n",
              "      <th>weight(in lbs)</th>\n",
              "      <th>foot size(in inches)</th>\n",
              "    </tr>\n",
              "  </thead>\n",
              "  <tbody>\n",
              "    <tr>\n",
              "      <th>0</th>\n",
              "      <td>Male</td>\n",
              "      <td>66.380000</td>\n",
              "      <td>241.893563</td>\n",
              "      <td>10.00</td>\n",
              "    </tr>\n",
              "    <tr>\n",
              "      <th>1</th>\n",
              "      <td>Male</td>\n",
              "      <td>68.781904</td>\n",
              "      <td>162.310473</td>\n",
              "      <td>12.00</td>\n",
              "    </tr>\n",
              "    <tr>\n",
              "      <th>2</th>\n",
              "      <td>Male</td>\n",
              "      <td>74.110105</td>\n",
              "      <td>212.740856</td>\n",
              "      <td>10.00</td>\n",
              "    </tr>\n",
              "    <tr>\n",
              "      <th>3</th>\n",
              "      <td>Male</td>\n",
              "      <td>71.730978</td>\n",
              "      <td>220.042470</td>\n",
              "      <td>11.00</td>\n",
              "    </tr>\n",
              "    <tr>\n",
              "      <th>4</th>\n",
              "      <td>Male</td>\n",
              "      <td>69.881796</td>\n",
              "      <td>206.349801</td>\n",
              "      <td>10.00</td>\n",
              "    </tr>\n",
              "    <tr>\n",
              "      <th>5</th>\n",
              "      <td>Male</td>\n",
              "      <td>67.253016</td>\n",
              "      <td>152.212156</td>\n",
              "      <td>9.16</td>\n",
              "    </tr>\n",
              "    <tr>\n",
              "      <th>6</th>\n",
              "      <td>Male</td>\n",
              "      <td>68.785081</td>\n",
              "      <td>183.927889</td>\n",
              "      <td>10.00</td>\n",
              "    </tr>\n",
              "    <tr>\n",
              "      <th>7</th>\n",
              "      <td>Male</td>\n",
              "      <td>68.348516</td>\n",
              "      <td>167.971111</td>\n",
              "      <td>11.00</td>\n",
              "    </tr>\n",
              "    <tr>\n",
              "      <th>8</th>\n",
              "      <td>Male</td>\n",
              "      <td>67.018950</td>\n",
              "      <td>175.929440</td>\n",
              "      <td>10.00</td>\n",
              "    </tr>\n",
              "    <tr>\n",
              "      <th>9</th>\n",
              "      <td>Male</td>\n",
              "      <td>63.456494</td>\n",
              "      <td>156.399676</td>\n",
              "      <td>12.00</td>\n",
              "    </tr>\n",
              "  </tbody>\n",
              "</table>\n",
              "</div>"
            ],
            "text/plain": [
              "  Person  height(in feet)  weight(in lbs)  foot size(in inches)\n",
              "0   Male        66.380000      241.893563                 10.00\n",
              "1   Male        68.781904      162.310473                 12.00\n",
              "2   Male        74.110105      212.740856                 10.00\n",
              "3   Male        71.730978      220.042470                 11.00\n",
              "4   Male        69.881796      206.349801                 10.00\n",
              "5   Male        67.253016      152.212156                  9.16\n",
              "6   Male        68.785081      183.927889                 10.00\n",
              "7   Male        68.348516      167.971111                 11.00\n",
              "8   Male        67.018950      175.929440                 10.00\n",
              "9   Male        63.456494      156.399676                 12.00"
            ]
          },
          "metadata": {
            "tags": []
          },
          "execution_count": 46
        }
      ]
    },
    {
      "cell_type": "code",
      "metadata": {
        "colab": {
          "base_uri": "https://localhost:8080/"
        },
        "id": "FFAuTdxbfktJ",
        "outputId": "bc720a1c-bac4-4d74-b2ad-d356e635615f"
      },
      "source": [
        "df.isna().sum()"
      ],
      "execution_count": 47,
      "outputs": [
        {
          "output_type": "execute_result",
          "data": {
            "text/plain": [
              "Person                  0\n",
              "height(in feet)         0\n",
              "weight(in lbs)          0\n",
              "foot size(in inches)    0\n",
              "dtype: int64"
            ]
          },
          "metadata": {
            "tags": []
          },
          "execution_count": 47
        }
      ]
    },
    {
      "cell_type": "code",
      "metadata": {
        "colab": {
          "base_uri": "https://localhost:8080/",
          "height": 343
        },
        "id": "QfKjb3kba-kI",
        "outputId": "a60d4043-9d28-459a-b03e-a2d0d500164b"
      },
      "source": [
        "df.fillna(round(df.mean(),2), inplace=True)\n",
        "df.head(10)"
      ],
      "execution_count": 48,
      "outputs": [
        {
          "output_type": "execute_result",
          "data": {
            "text/html": [
              "<div>\n",
              "<style scoped>\n",
              "    .dataframe tbody tr th:only-of-type {\n",
              "        vertical-align: middle;\n",
              "    }\n",
              "\n",
              "    .dataframe tbody tr th {\n",
              "        vertical-align: top;\n",
              "    }\n",
              "\n",
              "    .dataframe thead th {\n",
              "        text-align: right;\n",
              "    }\n",
              "</style>\n",
              "<table border=\"1\" class=\"dataframe\">\n",
              "  <thead>\n",
              "    <tr style=\"text-align: right;\">\n",
              "      <th></th>\n",
              "      <th>Person</th>\n",
              "      <th>height(in feet)</th>\n",
              "      <th>weight(in lbs)</th>\n",
              "      <th>foot size(in inches)</th>\n",
              "    </tr>\n",
              "  </thead>\n",
              "  <tbody>\n",
              "    <tr>\n",
              "      <th>0</th>\n",
              "      <td>Male</td>\n",
              "      <td>66.380000</td>\n",
              "      <td>241.893563</td>\n",
              "      <td>10.00</td>\n",
              "    </tr>\n",
              "    <tr>\n",
              "      <th>1</th>\n",
              "      <td>Male</td>\n",
              "      <td>68.781904</td>\n",
              "      <td>162.310473</td>\n",
              "      <td>12.00</td>\n",
              "    </tr>\n",
              "    <tr>\n",
              "      <th>2</th>\n",
              "      <td>Male</td>\n",
              "      <td>74.110105</td>\n",
              "      <td>212.740856</td>\n",
              "      <td>10.00</td>\n",
              "    </tr>\n",
              "    <tr>\n",
              "      <th>3</th>\n",
              "      <td>Male</td>\n",
              "      <td>71.730978</td>\n",
              "      <td>220.042470</td>\n",
              "      <td>11.00</td>\n",
              "    </tr>\n",
              "    <tr>\n",
              "      <th>4</th>\n",
              "      <td>Male</td>\n",
              "      <td>69.881796</td>\n",
              "      <td>206.349801</td>\n",
              "      <td>10.00</td>\n",
              "    </tr>\n",
              "    <tr>\n",
              "      <th>5</th>\n",
              "      <td>Male</td>\n",
              "      <td>67.253016</td>\n",
              "      <td>152.212156</td>\n",
              "      <td>9.16</td>\n",
              "    </tr>\n",
              "    <tr>\n",
              "      <th>6</th>\n",
              "      <td>Male</td>\n",
              "      <td>68.785081</td>\n",
              "      <td>183.927889</td>\n",
              "      <td>10.00</td>\n",
              "    </tr>\n",
              "    <tr>\n",
              "      <th>7</th>\n",
              "      <td>Male</td>\n",
              "      <td>68.348516</td>\n",
              "      <td>167.971111</td>\n",
              "      <td>11.00</td>\n",
              "    </tr>\n",
              "    <tr>\n",
              "      <th>8</th>\n",
              "      <td>Male</td>\n",
              "      <td>67.018950</td>\n",
              "      <td>175.929440</td>\n",
              "      <td>10.00</td>\n",
              "    </tr>\n",
              "    <tr>\n",
              "      <th>9</th>\n",
              "      <td>Male</td>\n",
              "      <td>63.456494</td>\n",
              "      <td>156.399676</td>\n",
              "      <td>12.00</td>\n",
              "    </tr>\n",
              "  </tbody>\n",
              "</table>\n",
              "</div>"
            ],
            "text/plain": [
              "  Person  height(in feet)  weight(in lbs)  foot size(in inches)\n",
              "0   Male        66.380000      241.893563                 10.00\n",
              "1   Male        68.781904      162.310473                 12.00\n",
              "2   Male        74.110105      212.740856                 10.00\n",
              "3   Male        71.730978      220.042470                 11.00\n",
              "4   Male        69.881796      206.349801                 10.00\n",
              "5   Male        67.253016      152.212156                  9.16\n",
              "6   Male        68.785081      183.927889                 10.00\n",
              "7   Male        68.348516      167.971111                 11.00\n",
              "8   Male        67.018950      175.929440                 10.00\n",
              "9   Male        63.456494      156.399676                 12.00"
            ]
          },
          "metadata": {
            "tags": []
          },
          "execution_count": 48
        }
      ]
    },
    {
      "cell_type": "code",
      "metadata": {
        "colab": {
          "base_uri": "https://localhost:8080/"
        },
        "id": "7nwI7TDDbDNE",
        "outputId": "66090b53-2807-43e2-9c24-06e2ede71388"
      },
      "source": [
        "df.isna().sum()"
      ],
      "execution_count": 49,
      "outputs": [
        {
          "output_type": "execute_result",
          "data": {
            "text/plain": [
              "Person                  0\n",
              "height(in feet)         0\n",
              "weight(in lbs)          0\n",
              "foot size(in inches)    0\n",
              "dtype: int64"
            ]
          },
          "metadata": {
            "tags": []
          },
          "execution_count": 49
        }
      ]
    },
    {
      "cell_type": "code",
      "metadata": {
        "colab": {
          "base_uri": "https://localhost:8080/",
          "height": 568
        },
        "id": "1ANiRbesfpPe",
        "outputId": "380174a2-7a93-4a3b-ece8-aa2db1c5a19d"
      },
      "source": [
        "sns.pairplot(df)"
      ],
      "execution_count": 50,
      "outputs": [
        {
          "output_type": "execute_result",
          "data": {
            "text/plain": [
              "<seaborn.axisgrid.PairGrid at 0x7f9d33ad7c50>"
            ]
          },
          "metadata": {
            "tags": []
          },
          "execution_count": 50
        },
        {
          "output_type": "display_data",
          "data": {
            "image/png": "[encoded data removed]",
            "text/plain": [
              "<Figure size 540x540 with 12 Axes>"
            ]
          },
          "metadata": {
            "tags": [],
            "needs_background": "light"
          }
        }
      ]
    },
    {
      "cell_type": "code",
      "metadata": {
        "colab": {
          "base_uri": "https://localhost:8080/",
          "height": 369
        },
        "id": "Nvmus4nAfslj",
        "outputId": "ba25214e-fcdc-4882-dd66-9ab272201b1d"
      },
      "source": [
        "h = df[['Person','height(in feet)','weight(in lbs)','foot size(in inches)']]\n",
        "h.hist()"
      ],
      "execution_count": 51,
      "outputs": [
        {
          "output_type": "execute_result",
          "data": {
            "text/plain": [
              "array([[<matplotlib.axes._subplots.AxesSubplot object at 0x7f9d31583610>,\n",
              "        <matplotlib.axes._subplots.AxesSubplot object at 0x7f9d314f5650>],\n",
              "       [<matplotlib.axes._subplots.AxesSubplot object at 0x7f9d31514cd0>,\n",
              "        <matplotlib.axes._subplots.AxesSubplot object at 0x7f9d314d5390>]],\n",
              "      dtype=object)"
            ]
          },
          "metadata": {
            "tags": []
          },
          "execution_count": 51
        },
        {
          "output_type": "display_data",
          "data": {
            "image/png": "[encoded data removed]",
            "text/plain": [
              "<Figure size 432x288 with 4 Axes>"
            ]
          },
          "metadata": {
            "tags": [],
            "needs_background": "light"
          }
        }
      ]
    },
    {
      "cell_type": "code",
      "metadata": {
        "colab": {
          "base_uri": "https://localhost:8080/"
        },
        "id": "UZbgYg4ffwAk",
        "outputId": "e81798f6-b1fb-4e9e-d681-aa44ad2b1b70"
      },
      "source": [
        "X = df.iloc[:, 1:].values\n",
        "X"
      ],
      "execution_count": 52,
      "outputs": [
        {
          "output_type": "execute_result",
          "data": {
            "text/plain": [
              "array([[ 66.38      , 241.8935632 ,  10.        ],\n",
              "       [ 68.78190405, 162.3104725 ,  12.        ],\n",
              "       [ 74.11010539, 212.7408556 ,  10.        ],\n",
              "       ...,\n",
              "       [ 63.86799221, 128.4753188 ,   8.        ],\n",
              "       [ 69.03424313, 163.8524613 ,   7.        ],\n",
              "       [ 61.94424588, 113.6491027 ,   9.        ]])"
            ]
          },
          "metadata": {
            "tags": []
          },
          "execution_count": 52
        }
      ]
    },
    {
      "cell_type": "code",
      "metadata": {
        "colab": {
          "base_uri": "https://localhost:8080/"
        },
        "id": "3g7tLp9EfzYr",
        "outputId": "c7e3bd01-e4b3-4793-d4d7-e01d9b21e719"
      },
      "source": [
        "y = df.iloc[:, 0].values\n",
        "y"
      ],
      "execution_count": 53,
      "outputs": [
        {
          "output_type": "execute_result",
          "data": {
            "text/plain": [
              "array(['Male', 'Male', 'Male', ..., 'Female', 'Female', 'Female'],\n",
              "      dtype=object)"
            ]
          },
          "metadata": {
            "tags": []
          },
          "execution_count": 53
        }
      ]
    },
    {
      "cell_type": "code",
      "metadata": {
        "colab": {
          "base_uri": "https://localhost:8080/"
        },
        "id": "TthApJpYf4yN",
        "outputId": "fdf8c261-7472-459e-f872-e191b2197532"
      },
      "source": [
        "X_train, X_test, y_train, y_test = train_test_split( X, y, test_size = 0.25, random_state = 4)\n",
        "print ('Train set:', X_train.shape, y_train.shape)\n",
        "print ('Test set:', X_test.shape, y_test.shape)"
      ],
      "execution_count": 54,
      "outputs": [
        {
          "output_type": "stream",
          "text": [
            "Train set: (7500, 3) (7500,)\n",
            "Test set: (2500, 3) (2500,)\n"
          ],
          "name": "stdout"
        }
      ]
    },
    {
      "cell_type": "code",
      "metadata": {
        "id": "bS38IzCDgElF"
      },
      "source": [
        "sc = StandardScaler()\n",
        "X_train = sc.fit_transform(X_train)\n",
        "X_test = sc.transform(X_test)"
      ],
      "execution_count": 55,
      "outputs": []
    },
    {
      "cell_type": "code",
      "metadata": {
        "colab": {
          "base_uri": "https://localhost:8080/"
        },
        "id": "gSKK4w5jkZDJ",
        "outputId": "e2d8d25c-95a0-4759-d240-8e6b6a43c819"
      },
      "source": [
        "logreg = LogisticRegression()\n",
        "logreg.fit(X_train, y_train)\n",
        "Y_pred_lr = logreg.predict(X_test)\n",
        "acc_log = round(logreg.score(X_test,y_test) * 100, 2)\n",
        "print(\"Logistic Regression Accuracy: \", acc_log)"
      ],
      "execution_count": 56,
      "outputs": [
        {
          "output_type": "stream",
          "text": [
            "Logistic Regression Accuracy:  99.24\n"
          ],
          "name": "stdout"
        }
      ]
    },
    {
      "cell_type": "code",
      "metadata": {
        "colab": {
          "base_uri": "https://localhost:8080/"
        },
        "id": "35iRewspkhC7",
        "outputId": "f83f3415-73cc-4bbc-f0a7-965cdda17cf3"
      },
      "source": [
        "class_report = classification_report(y_test, Y_pred_lr)\n",
        "print(\"Classificiation Report: \\n\", class_report)"
      ],
      "execution_count": 57,
      "outputs": [
        {
          "output_type": "stream",
          "text": [
            "Classificiation Report: \n",
            "               precision    recall  f1-score   support\n",
            "\n",
            "      Female       0.99      0.99      0.99      1263\n",
            "        Male       0.99      0.99      0.99      1237\n",
            "\n",
            "    accuracy                           0.99      2500\n",
            "   macro avg       0.99      0.99      0.99      2500\n",
            "weighted avg       0.99      0.99      0.99      2500\n",
            "\n"
          ],
          "name": "stdout"
        }
      ]
    },
    {
      "cell_type": "code",
      "metadata": {
        "colab": {
          "base_uri": "https://localhost:8080/",
          "height": 484
        },
        "id": "ZesYqVwTkn1s",
        "outputId": "1c2b5a50-b214-4e76-a0d1-b47aece6d0f1"
      },
      "source": [
        "skplt.metrics.plot_confusion_matrix(y_test, Y_pred_lr, cmap=\"binary\", figsize=(8,8))"
      ],
      "execution_count": 58,
      "outputs": [
        {
          "output_type": "execute_result",
          "data": {
            "text/plain": [
              "<matplotlib.axes._subplots.AxesSubplot at 0x7f9d31715f10>"
            ]
          },
          "metadata": {
            "tags": []
          },
          "execution_count": 58
        },
        {
          "output_type": "display_data",
          "data": {
            "image/png": "[encoded data removed]",
            "text/plain": [
              "<Figure size 576x576 with 2 Axes>"
            ]
          },
          "metadata": {
            "tags": [],
            "needs_background": "light"
          }
        }
      ]
    },
    {
      "cell_type": "code",
      "metadata": {
        "colab": {
          "base_uri": "https://localhost:8080/"
        },
        "id": "OYtxnwu4brQY",
        "outputId": "34a38062-3fb0-4571-ca10-b5348155c5c8"
      },
      "source": [
        "jac_score_logreg = round(jaccard_score(y_test, Y_pred_lr, pos_label='Male') * 100, 2)\n",
        "print(\"Jaccard Score: \", jac_score_logreg)"
      ],
      "execution_count": 59,
      "outputs": [
        {
          "output_type": "stream",
          "text": [
            "Jaccard Score:  98.47\n"
          ],
          "name": "stdout"
        }
      ]
    },
    {
      "cell_type": "code",
      "metadata": {
        "colab": {
          "base_uri": "https://localhost:8080/"
        },
        "id": "ogVQbv2Zktdo",
        "outputId": "f035ee27-5dfc-4e00-81d4-5e15feaad869"
      },
      "source": [
        "knn = KNeighborsClassifier(n_neighbors = 3)\n",
        "knn.fit(X_train, y_train)\n",
        "Y_pred_knn = knn.predict(X_test)\n",
        "acc_knn = round(knn.score(X_test,y_test) * 100, 2)\n",
        "print(\"K - Nearest Neighbours Accuracy: \", acc_knn)"
      ],
      "execution_count": 60,
      "outputs": [
        {
          "output_type": "stream",
          "text": [
            "K - Nearest Neighbours Accuracy:  99.12\n"
          ],
          "name": "stdout"
        }
      ]
    },
    {
      "cell_type": "code",
      "metadata": {
        "colab": {
          "base_uri": "https://localhost:8080/"
        },
        "id": "jLtEw5qHkySX",
        "outputId": "8c94df1b-0094-43dc-f301-b52103077ad0"
      },
      "source": [
        "class_report = classification_report(y_test, Y_pred_knn)\n",
        "print(\"Classificiation Report: \\n\", class_report)"
      ],
      "execution_count": 61,
      "outputs": [
        {
          "output_type": "stream",
          "text": [
            "Classificiation Report: \n",
            "               precision    recall  f1-score   support\n",
            "\n",
            "      Female       0.99      0.99      0.99      1263\n",
            "        Male       0.99      0.99      0.99      1237\n",
            "\n",
            "    accuracy                           0.99      2500\n",
            "   macro avg       0.99      0.99      0.99      2500\n",
            "weighted avg       0.99      0.99      0.99      2500\n",
            "\n"
          ],
          "name": "stdout"
        }
      ]
    },
    {
      "cell_type": "code",
      "metadata": {
        "colab": {
          "base_uri": "https://localhost:8080/",
          "height": 484
        },
        "id": "rT08DMDVb0VX",
        "outputId": "ba8dfb68-86d1-45b5-8dfa-9b64310ce724"
      },
      "source": [
        "skplt.metrics.plot_confusion_matrix(y_test, Y_pred_knn, figsize=(8,8))"
      ],
      "execution_count": 62,
      "outputs": [
        {
          "output_type": "execute_result",
          "data": {
            "text/plain": [
              "<matplotlib.axes._subplots.AxesSubplot at 0x7f9d31350b10>"
            ]
          },
          "metadata": {
            "tags": []
          },
          "execution_count": 62
        },
        {
          "output_type": "display_data",
          "data": {
            "image/png": "[encoded data removed]",
            "text/plain": [
              "<Figure size 576x576 with 2 Axes>"
            ]
          },
          "metadata": {
            "tags": [],
            "needs_background": "light"
          }
        }
      ]
    },
    {
      "cell_type": "code",
      "metadata": {
        "colab": {
          "base_uri": "https://localhost:8080/"
        },
        "id": "XB97W2tuk-nf",
        "outputId": "93ccf2c9-f619-4d82-8306-8836795e1a66"
      },
      "source": [
        "jac_score_knn = round(jaccard_score(y_test, Y_pred_knn, pos_label='Male') * 100, 2)\n",
        "print(\"Jaccard Score: \", jac_score_knn)"
      ],
      "execution_count": 63,
      "outputs": [
        {
          "output_type": "stream",
          "text": [
            "Jaccard Score:  98.24\n"
          ],
          "name": "stdout"
        }
      ]
    },
    {
      "cell_type": "code",
      "metadata": {
        "colab": {
          "base_uri": "https://localhost:8080/",
          "height": 106
        },
        "id": "Rv2M_8UglDDz",
        "outputId": "53d6128f-3ca9-4fb2-c1b7-2d498a17785e"
      },
      "source": [
        "models = pd.DataFrame({\n",
        "'Algorithm Name': ['Logistic Regression', 'KNN'],\n",
        "'Accuracy Score (%)': [acc_log, acc_knn],\n",
        "'Misclassification (%)': [(abs(acc_log-100)), (abs(acc_knn-100))],\n",
        "'Jaccard Score (%)' : [jac_score_logreg, jac_score_knn]\n",
        "})\n",
        "models.sort_values(by = 'Accuracy Score (%)', ascending = False)"
      ],
      "execution_count": 64,
      "outputs": [
        {
          "output_type": "execute_result",
          "data": {
            "text/html": [
              "<div>\n",
              "<style scoped>\n",
              "    .dataframe tbody tr th:only-of-type {\n",
              "        vertical-align: middle;\n",
              "    }\n",
              "\n",
              "    .dataframe tbody tr th {\n",
              "        vertical-align: top;\n",
              "    }\n",
              "\n",
              "    .dataframe thead th {\n",
              "        text-align: right;\n",
              "    }\n",
              "</style>\n",
              "<table border=\"1\" class=\"dataframe\">\n",
              "  <thead>\n",
              "    <tr style=\"text-align: right;\">\n",
              "      <th></th>\n",
              "      <th>Algorithm Name</th>\n",
              "      <th>Accuracy Score (%)</th>\n",
              "      <th>Misclassification (%)</th>\n",
              "      <th>Jaccard Score (%)</th>\n",
              "    </tr>\n",
              "  </thead>\n",
              "  <tbody>\n",
              "    <tr>\n",
              "      <th>0</th>\n",
              "      <td>Logistic Regression</td>\n",
              "      <td>99.24</td>\n",
              "      <td>0.76</td>\n",
              "      <td>98.47</td>\n",
              "    </tr>\n",
              "    <tr>\n",
              "      <th>1</th>\n",
              "      <td>KNN</td>\n",
              "      <td>99.12</td>\n",
              "      <td>0.88</td>\n",
              "      <td>98.24</td>\n",
              "    </tr>\n",
              "  </tbody>\n",
              "</table>\n",
              "</div>"
            ],
            "text/plain": [
              "        Algorithm Name  ...  Jaccard Score (%)\n",
              "0  Logistic Regression  ...              98.47\n",
              "1                  KNN  ...              98.24\n",
              "\n",
              "[2 rows x 4 columns]"
            ]
          },
          "metadata": {
            "tags": []
          },
          "execution_count": 64
        }
      ]
    }
  ]
}